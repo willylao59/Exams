{
 "cells": [
  {
   "cell_type": "markdown",
   "metadata": {},
   "source": [
    "# Airline staffing problem\n",
    "\n",
    "*Original lab session by Gérard Verfaillie.*\n",
    "\n",
    "This problem is about the staffing of an airline, i.e. assigning pilots and crew members to scheduled flights using a Constraint Satisfaction/Optimisation Problem (CSP/COP) solver (here `facile`). Three instances of the problem are given.\n",
    "\n",
    "As a pure CSP modelling fails for the larger instance, we will solve it using a combination of CSP and Mixed-Integer Linear Programming (MILP) modelling. You may refer to past classes with the `PuLP` library for basic usage.\n",
    "\n",
    "<div class=\"alert alert-warning\">\n",
    "    <b>Warning</b>: You may submit in French or English. Make a choice and stick to it (don't mix languages).\n",
    "</div>"
   ]
  },
  {
   "cell_type": "markdown",
   "metadata": {},
   "source": [
    "## Problem description\n",
    "\n",
    "An airline operates a given **set of flights** between **pairs of airports**. Each flight must be staffed with **two pilots** and **enough cabin crew members** depending on the **type of aircraft**.\n",
    "\n",
    "Each staff member must start its trip **from his hometown (not before 12am, midday)** and be **back home in the evening (before 12am, midnight)**. They must **not fly more than a maximum number of flights per day**, and **more than a maximum amount of time out of home** (from first take-off time to last landing time in addition to commuting time).\n",
    "\n",
    "Each staff member may **fly as a passenger** if they just need to be transferred to another airport/city. They may as well be **assigned to just stay home**.\n",
    "\n",
    "We will first search for a solution to this problem, then find the optimal solution that will **maximise the money** made by the airline by **minimising the number of passenger seats assigned to staff**."
   ]
  },
  {
   "cell_type": "markdown",
   "metadata": {},
   "source": [
    "## Problem data"
   ]
  },
  {
   "cell_type": "markdown",
   "metadata": {},
   "source": [
    "The following data are given:\n",
    "- `Nv`: total number of **flights**;\n",
    "- `Na`: total number of **airports**;\n",
    "- `Ni`: total number of **cities**;\n",
    "- `Va`: a table associating a **city to an airport** (they may be several airports in the same city);\n",
    "- `Ov` (resp. `Dv`): this table associates an **origin** (resp. destination) airport to a flight;\n",
    "- `Td` (resp. `Ta`): this table associates a **take-off time** (resp. landing time) to a flight, (in round hours);\n",
    "- `Dt`: this table returns **transit times between two airports of the same city** (in hours). This time is equal to 25 (more than a day, so infinite) for airports in different cities; `Dt[i][i]` is the **time required to transfer between two aircraft at airport $i$**;\n",
    "- `Np`: this table associates a **number of passenger seats** to a flight;\n",
    "- `Nec`: this table associates a **number of required cabin crew members** to a flight;\n",
    "- `Pr`: this table associates a **price for a ticket** in a flight;\n",
    "- `Ne`: total **number of staff** in the airline;\n",
    "- `Ty`: this table associates 1 to a **pilot**, 0 to a **cabin crew member**;\n",
    "- `Vh`: this tables associates a **hometown to each staff member**;\n",
    "- `Nvmax`: maximum **number of flights per staff member per day**;\n",
    "- `Dmax`: maximum **work time** (out of home) **per staff member per day**;\n",
    "- `Dda`: standard **commuting time** (both ways).\n",
    "\n",
    "<div class=\"alert alert-success\">\n",
    "    <b>Hint</b>: Three instances are given (tiny, small, normal). Start debugging with the tiny instance; when it works, try the small instance: <b>you will be graded based on the results of the small instance</b>.\n",
    "</div>\n",
    "<div class=\"alert alert-warning\">\n",
    "    <b>Warning</b>: Keep the normal instance for next section. (Trying it with this modelling may stall the kernel and require a restart)\n",
    "</div>\n",
    "\n",
    "Index 0 in the tables printed below means \"no flight\", associated to \"no airport\" and \"no city\"."
   ]
  },
  {
   "cell_type": "code",
   "execution_count": 1,
   "metadata": {
    "jupyter": {
     "outputs_hidden": false
    }
   },
   "outputs": [
    {
     "name": "stdout",
     "output_type": "stream",
     "text": [
      "Nv = 2\n",
      "Na = 2\n",
      "Ni = 2\n",
      "Va = [0, 1, 2]\n",
      "Ov = [0, 1, 2]\n",
      "Dv = [0, 2, 1]\n",
      "Td = [0, 8, 12]\n",
      "Ta = [0, 9, 13]\n",
      "Dt = [[0, 0, 0], [0, 2, 25], [0, 25, 2]]\n",
      "Dtinf = 25\n",
      "Np = [0, 80, 80]\n",
      "Nec = [0, 2, 2]\n",
      "Pr = [0, 100, 100]\n",
      "Ne = 5\n",
      "Ty = [1, 1, 0, 0, 0]\n",
      "Vh = [1, 1, 1, 1, 2]\n",
      "Nvmax = 2\n",
      "Dmax = 7\n",
      "Dda = 2\n"
     ]
    }
   ],
   "source": [
    "%run airline-tiny.py"
   ]
  },
  {
   "cell_type": "code",
   "execution_count": 13,
   "metadata": {
    "jupyter": {
     "outputs_hidden": false
    }
   },
   "outputs": [],
   "source": [
    "%run airline-small.py"
   ]
  },
  {
   "cell_type": "code",
   "execution_count": 3,
   "metadata": {
    "jupyter": {
     "outputs_hidden": false
    }
   },
   "outputs": [],
   "source": [
    "%run airline-normal.py"
   ]
  },
  {
   "cell_type": "markdown",
   "metadata": {},
   "source": [
    "## CSP modelling\n",
    "\n",
    "### Variable definitions\n",
    "\n",
    "First, define the variables of the problem. You may associate a variable to each flight taken by a staff member on a given day."
   ]
  },
  {
   "cell_type": "markdown",
   "metadata": {},
   "source": [
    "<div class='alert alert-info'>\n",
    "<b> Answer:</b><br>\n",
    "For each of the $Ne$ staff members and in a day, a list of taken flights is made. A 2-D array `flights_member` is obtained:<br>\n",
    "    \n",
    "- `flights_member[i]` is the list of flights taken by the staff member `i`\n",
    "- `flights_member[i][j]` is the j-th flight taken by the staff member `i`\n",
    "    \n",
    "For example: `flights_member[0] = [0,1,2,0,0,0]`<br>\n",
    "    \n",
    "- The `first column is artificially built with a 0` for more convenience when indexing because Python begins indices at 0. <br>\n",
    "Indeed, in the next cell, \"last_flight_index\" is defined. If last_flight_index = **3**, then we have access to this last flight with flight[i][**3**] instead of flight[i][**2**].\n",
    "- This member takes 2 flights, $1$ and $2$ because the rest of the list is filled with $0$.<br>\n",
    "- The flights are integer values between `0` and `Nv` included.\n",
    "- The length of this array is `Nvmax+1`, the maximum number of flights a staff member can take in a day to which we add the first column of 0 artificially created. \n",
    "</div>"
   ]
  },
  {
   "cell_type": "code",
   "execution_count": 14,
   "metadata": {},
   "outputs": [],
   "source": [
    "import facile\n",
    "import numpy as np"
   ]
  },
  {
   "cell_type": "code",
   "execution_count": 15,
   "metadata": {
    "jupyter": {
     "outputs_hidden": false
    }
   },
   "outputs": [],
   "source": [
    "# The decision variables: a 2-D array\n",
    "flights_member = [facile.array(\n",
    "                               [facile.variable(range(Nv+1)) for i in range(Nvmax+1)]\n",
    "                                ) for j in range(Ne)]\n",
    "\n",
    "# The first column is artificially filled with 0\n",
    "# For each staff member\n",
    "for i in range(Ne):\n",
    "    facile.constraint(flights_member[i][0]==0)\n",
    "    \n",
    "# \"last_flight_index\" is the index of the last flight non equal to 0 for a staff member\n",
    "# It is obtained by computing the sum of flights non equal to 0 for a staff member\n",
    "last_flight_index = [sum((flights_member[e][i] !=0) for i in range(0, Nvmax+1)) for e in range(Ne)]"
   ]
  },
  {
   "cell_type": "code",
   "execution_count": 16,
   "metadata": {},
   "outputs": [],
   "source": [
    "# # Hard coded solution, used for testing on the airline-small.py case\n",
    "# solution = [[0, 1, 4,6], [0, 1, 4, 6], [0, 2, 5, 0], [0,2, 5, 0], [0,3, 7, 5], [0, 3, 7, 5], [0, 1, 4,6], [0, 1, 4, 6], [0, 2, 5, 0], [0,2, 5, 0], [0,3, 7, 5], [0, 3, 7, 5] ]\n",
    "\n",
    "# # We force \"flights_member\" to be equal to \"solution\" so that we can detect whether \n",
    "# # the constraints overconstrain the problem or not\n",
    "\n",
    "# for i in range(Ne):\n",
    "#     for j in range(Nvmax+1):\n",
    "#         facile.constraint(flights_member[i][j]==solution[i][j])"
   ]
  },
  {
   "cell_type": "markdown",
   "metadata": {},
   "source": [
    "### Constraints definition (50%)\n",
    "\n",
    "<div class=\"alert alert-warning\">\n",
    "    <b>Warning</b>: Please write and explain (use Python comments) the code for each constraint in the corresponding <b>code</b> cells.<br/>Use Python comments for explanations. <b>You will be graded accordingly.</b><br/>You may add as many cells as necessary but do not move existing cells.\n",
    "</div>"
   ]
  },
  {
   "cell_type": "markdown",
   "metadata": {},
   "source": [
    "- Flights assigned to `0` (no flight) must be at the end of the schedule.  \n",
    "  `[1, 0, 2]` could be equivalent to `[1, 2, 0]` but only the second one is valid."
   ]
  },
  {
   "cell_type": "markdown",
   "metadata": {},
   "source": [
    "<div class='alert alert-info'>\n",
    "<b> Answer:</b>\n",
    "    \n",
    "The constraint is: `If a flight is 0, then all the following values are equal to 0`.<br>\n",
    "<br>\n",
    "    <b>flights_member[i][j] == 0) => (flights_member[i][j+1:end] = 0)</b><br>\n",
    "<br>\n",
    "This can be translated as: <br>\n",
    "`A flight is not 0 otherwise the next flight_value is 0.`<br>\n",
    "<br>\n",
    "We do this :\n",
    "    \n",
    "- `for each member i`\n",
    "- `for each flight j` so that, if there is a $0$, it is propagated until the end of the    array<br>\n",
    "\n",
    "<b> For each member i:<br>\n",
    "    &emsp;For each flight j:<br>\n",
    "    &emsp; &emsp; flights_member[i][j] != 0<br>\n",
    "    &emsp; &emsp; otherwise<br>\n",
    "    &emsp; &emsp; &emsp; flights_member[i][j+1]=0</b>\n",
    "\n",
    "The *otherwise* is written with a `| operator`.<br><br>\n",
    "</div> "
   ]
  },
  {
   "cell_type": "code",
   "execution_count": 17,
   "metadata": {},
   "outputs": [],
   "source": [
    "# For each staff member\n",
    "for i in range(Ne):\n",
    "    # For each flight of this staff member\n",
    "    for j in range(1,Nvmax): # The range reaches Nvmax because we use the index 'j+1' \n",
    "                             # and the first column is artificially made out of 0  \n",
    "        \n",
    "        ### Variables\n",
    "        # flight[i][j] / flight[i][j+1]\n",
    "        flight_i_j   = facile.array(flights_member[i])[j]\n",
    "        flight_i_jp1 = facile.array(flights_member[i])[j+1]\n",
    "        \n",
    "        ### Constraint\n",
    "        # The flight[i][j] is not 0 otherwise the next flight flight[i][j+1] is 0\n",
    "        c1 = (flight_i_j!=0) | (flight_i_jp1==0)\n",
    "        facile.constraint(c1)"
   ]
  },
  {
   "cell_type": "markdown",
   "metadata": {},
   "source": [
    "- If a staff member flies on that day, then (s)he leaves home and returns home."
   ]
  },
  {
   "cell_type": "markdown",
   "metadata": {},
   "source": [
    "<div class='alert alert-info'>\n",
    "<b> Answer:</b><br>\n",
    "    \n",
    "- If a staff member `does not fly on that day`, his/her first flight is equal to `0` and everything is fine.\n",
    "- If a staff member flies on that day, his her/first flight is not equal to $0$ and:\n",
    "    - For the `first flight`, the `city of the origin airport of is the hometown`\n",
    "    - For the `last flight` different from 0, the `city of the destination airport is the hometown`\n",
    "\n",
    "Thus, the constraint can be expressed as:<br>\n",
    "<br>\n",
    "<b>For each staff member:<br>\n",
    "    &emsp;first_flight = 0 <br>\n",
    "    &emsp;otherwise<br>\n",
    "    &emsp; &emsp;city[destination_airport[first_flight]] != hometown<br>\n",
    "    &emsp; &emsp;and city(destination_airport(last_flight)) == hometown</b>\n",
    "<br> \n",
    "    \n",
    "The *otherwise* is written with a `| operator`.\n",
    "</div>"
   ]
  },
  {
   "cell_type": "code",
   "execution_count": 18,
   "metadata": {},
   "outputs": [],
   "source": [
    "# For each staff member\n",
    "for i in range(Ne):\n",
    "    \n",
    "    ### Variables\n",
    "    # First flight of a staff member / Last flight of a staff member \n",
    "    first_flight = facile.array(flights_member[i])[1]\n",
    "    last_flight  = facile.array(flights_member[i])[last_flight_index[i]]\n",
    "    \n",
    "    # Origin airport of the first flight / Destination airport of the last flight\n",
    "    origin_airport_first_flight = facile.array(Ov)[first_flight]\n",
    "    dest_airport_first_flight   = facile.array(Dv)[last_flight]\n",
    "    \n",
    "    # Origin city of the first flight / Destination city of the last flight\n",
    "    origin_city_first_flight = facile.array(Va)[origin_airport_first_flight]   \n",
    "    dest_city_last_flight    = facile.array(Va)[dest_airport_first_flight]\n",
    "    \n",
    "    # Hometown of the staff member \"i\"\n",
    "    hometown = Vh[i]\n",
    "    \n",
    "    ### Constraints \n",
    "    # The first flight is equal to 0 (the staff member does not fly)\n",
    "    c2_1 = first_flight==0 \n",
    "\n",
    "    # The origin city of the first flight is the hometown of the staff member\n",
    "    c2_2 = origin_city_first_flight == hometown\n",
    "    \n",
    "    # The destination city of the last flight is the hometown of the staff member\n",
    "    c2_3 = dest_city_last_flight == hometown\n",
    "    \n",
    "    facile.constraint(c2_1|c2_2)\n",
    "    facile.constraint(c2_1|c2_3) "
   ]
  },
  {
   "cell_type": "markdown",
   "metadata": {},
   "source": [
    "- A staff member may chain two flights iff :\n",
    "    - first flight's destination airport and second flight's origin airport cities match;\n",
    "    - there is enough transfer time between flights."
   ]
  },
  {
   "cell_type": "markdown",
   "metadata": {},
   "source": [
    "<div class='alert alert-info'>\n",
    "<b> Answer:</b><br>\n",
    "    \n",
    "`First constraint: First flight's destination airport and second flight's origin airport cities match`<br>\n",
    "    \n",
    "- For each staff member $i$:\n",
    "    - For each flight $j$:\n",
    "        - The `city of the origin airport of flight[j+1]` is the same as the `city of the destination airport of flight[j]`\n",
    "        - However, `flight[j+1] can also be equal to 0`. This means that $flight[j]$ was the last flight. <br>\n",
    "        We have to treat this case because the city of the origin airport of a flight of value $0$ is $0$.<br>\n",
    "        If it is the case, we can't have the previous point. <br>\n",
    "        Therefore, we say that the `city of the destination airport of $flight[j+1]$ can be equal to $0$ or must respect the previous point.`<br>\n",
    "\n",
    "Then, we have: <br>\n",
    "\n",
    "<b>For each staff member:<br>\n",
    "    &emsp;For each flight $j$: <br> \n",
    "        &emsp; &emsp;city[origin_airport[ flight[ j+1 ] ] ] = (0 or city[ destination_airport[ flight[j] ])</b><br>\n",
    "<br>\n",
    "\n",
    "`Second constraint: There must be enough time between two consecutive flights\n",
    "`<br>\n",
    "\n",
    "`The difference between the departure time of flight[j+1] and the arrival time of flight[j] is inferior to the time required to transfer between two aircrafts at the same airport`<br>\n",
    "\n",
    "Thus we have:<br>\n",
    "<b> For each staff member:<br>\n",
    "    &emsp;For each flight $j$:<br>\n",
    "    &emsp; &emsp;Dt[flight[ j ] ] [flight[ j+1 ] ] < time_arrival[flight[ j ] ] - time_departure[flight[ j+1 ] ]</b>\n",
    "\n",
    "There is no issue if flight[j+1] equals $0$ because its time of departure or its time of arrival is $0$. Thus, the constraint is always true.\n",
    "\n",
    "We `transform the 2-D array Dt into a 1-D array` using $np.ravel$ so that we can index it with $facile.array()$<br>"
   ]
  },
  {
   "cell_type": "code",
   "execution_count": 19,
   "metadata": {},
   "outputs": [],
   "source": [
    "for i in range(Ne):\n",
    "    for j in range(1,Nvmax):\n",
    "        \n",
    "        ### Variables\n",
    "        # Flight[i][j] and the next flight\n",
    "        flight_i_j = facile.array(flights_member[i])[j]\n",
    "        flight_i_jp1 = facile.array(flights_member[i])[j+1]\n",
    "        \n",
    "        # Destination airport of flight[i][j] / Origin airport of flight[i][j+1]                           \n",
    "        dest_airport_flight_i_j = facile.array(Dv)[flight_i_j]\n",
    "        origin_airport_flight_i_jp1 = facile.array(Ov)[flight_i_jp1]                          \n",
    "\n",
    "        # Destination city of flight[i][j] / Origin city of flight[i][j+1]\n",
    "        dest_city_flight_i_j    = facile.array(Va)[dest_airport_flight_i_j]\n",
    "        origin_city_flight_i_jp1 = facile.array(Va)[origin_airport_flight_i_jp1]\n",
    "\n",
    "        # Reshape Dt from a 2D array into a 1D array\n",
    "        Dt_flatten = np.ravel(Dt)\n",
    "\n",
    "        # Transit time between the airport of flight[i][j] and the airport of flight[i][j+1]\n",
    "        # Accessible with Dt[k][l] => Dt[k*Na+l]\n",
    "        transit_time = facile.array(Dt_flatten)[dest_airport_flight_i_j * (Na+1) + origin_airport_flight_i_jp1]\n",
    "        \n",
    "        # Arrival time of flight[i][j] / Departure time of flight[i][j+1]\n",
    "        Ta_flight_i_j = facile.array(Ta)[flight_i_j]                       \n",
    "        Td_flight_i_jp1 = facile.array(Td)[flight_i_jp1]    \n",
    "        \n",
    "        ### Constraints\n",
    "        c3_0 = origin_city_flight_i_jp1 == 0     \n",
    "        c3_1 = origin_city_flight_i_jp1 == dest_city_flight_i_j\n",
    "        c3_2 =  transit_time <= Td_flight_i_jp1 - Ta_flight_i_j\n",
    "        \n",
    "        facile.constraint(c3_0|c3_1)\n",
    "        facile.constraint(c3_0|c3_2)"
   ]
  },
  {
   "cell_type": "markdown",
   "metadata": {},
   "source": [
    "- A staff member may not exceed his/her total time out of home;"
   ]
  },
  {
   "cell_type": "markdown",
   "metadata": {},
   "source": [
    "<div class=\"alert alert-info\">\n",
    "    <b> Answer:</b>\n",
    "    \n",
    "The `difference between the arrival time of the last flight and the departure time of the first flight`, to which the `commuting time` is added, is inferior or equal to the `maximum time out of home`.\n",
    "\n",
    "<b>(Dda + Ta_last_flight - Td_first_flight) <= Dmax</b>\n",
    "    \n",
    "</div>"
   ]
  },
  {
   "cell_type": "code",
   "execution_count": 20,
   "metadata": {},
   "outputs": [],
   "source": [
    "# For each staff member i\n",
    "for i in range(Ne):\n",
    "    \n",
    "    ### Variables\n",
    "    # First flight of a staff member / Last flight of a staff member\n",
    "    first_flight = facile.array(flights_member[i])[1]\n",
    "    last_flight = facile.array(flights_member[i])[last_flight_index[i]]\n",
    "    \n",
    "    # Departure time of the first flight / Arrival time of the last flight\n",
    "    Ta_last_flight = facile.array(Ta)[last_flight]\n",
    "    Td_first_flight = facile.array(Td)[first_flight]\n",
    "    \n",
    "    ### Constraint\n",
    "    # A staff member may not exceed his/her total time out of home\n",
    "    c4 = (Dda + Ta_last_flight - Td_first_flight) <= Dmax\n",
    "    facile.constraint(c4)"
   ]
  },
  {
   "cell_type": "markdown",
   "metadata": {},
   "source": [
    "- Each flights requires at least two pilots and enough cabin crew members."
   ]
  },
  {
   "cell_type": "markdown",
   "metadata": {},
   "source": [
    "<div class=\"alert alert-info\">\n",
    "    <b> Answer: </b>\n",
    "\n",
    "- For each flight, we `count the number of pilots and cabin crew members` in it:\n",
    "    - For a given flight, we look into the schedule of each flight member whether this flight is in it or not:<br>\n",
    "    <b> \"sum([x==flight for x in flights_member[i]]) for i in range(Ne)\" </b>\n",
    "    - We determine if this staff member is a pilot or a cabin crew member<br>\n",
    "    <b> \"if is_pilot(i)\"</b>\n",
    "    - Then we sum the number of times it appeared in total\n",
    "    \n",
    "<b> pilots_per_flight>=2</b><br>\n",
    "<b> crew_members_per_flight>=Nec[flight]</b>\n",
    "</div> "
   ]
  },
  {
   "cell_type": "code",
   "execution_count": 21,
   "metadata": {},
   "outputs": [],
   "source": [
    "# Function which returns whether the staff member is a pilot or not\n",
    "def is_pilot(i):\n",
    "    return (Ty[i]==1)\n",
    "\n",
    "### Variables\n",
    "# For each \"flight\", we count the number of pilots and the number of cabin crew members in it\n",
    "for flight in range(1,Nv+1):\n",
    "    pilots_per_flight = sum([sum([x==flight for x in flights_member[i]]) for i in range(Ne) if is_pilot(i)])\n",
    "    crew_members_per_flight = sum([sum([x==flight for x in flights_member[i]]) for i in range(Ne) if not is_pilot(i)])\n",
    "        \n",
    "    ### Constraints\n",
    "    # Each flight requires at least two pilots\n",
    "    facile.constraint(pilots_per_flight>=2)\n",
    "    \n",
    "    # Each flight requies at least \"Nec[flight]\" cabin crew members\n",
    "    facile.constraint(crew_members_per_flight>=Nec[flight])"
   ]
  },
  {
   "cell_type": "markdown",
   "metadata": {},
   "source": [
    "### Problem optimisation (5%)"
   ]
  },
  {
   "cell_type": "code",
   "execution_count": null,
   "metadata": {
    "jupyter": {
     "outputs_hidden": false
    }
   },
   "outputs": [],
   "source": []
  },
  {
   "cell_type": "markdown",
   "metadata": {},
   "source": [
    "### Answer the problem (10%)"
   ]
  },
  {
   "cell_type": "markdown",
   "metadata": {},
   "source": [
    "<div class='alert alert-warning'>\n",
    "To maximise your grade, please post-process and pretty-print the results of the optimisation and check they are consistent with the constraints. <b>If you find inconsistencies you cannot solve, please point them.</b> (You will fail this question if you pretend everything is fine or if you try to hide your issues)\n",
    "</div>\n",
    "\n",
    "For each staff member, list the flights (s)he will be flying with cities and take-off/landing times.\n",
    "\n",
    "Valid example:\n",
    "```\n",
    "Staff number 0: 1 [1, 2] 2 [2, 1] scheduled at [8, 9] [12, 13]\n",
    "Staff number 1: ...\n",
    "```\n",
    "    \n",
    "For each flight, list the pilots and cabin crew members flying (together with the required staffing of the aircraft).\n",
    "\n",
    "Valid example:\n",
    "```\n",
    "Flight number 1: pilots {0, 1} cabin crew {2, 3} (≥ 2) ;\n",
    "Flight number 2: ...\n",
    "```\n"
   ]
  },
  {
   "cell_type": "code",
   "execution_count": 22,
   "metadata": {},
   "outputs": [
    {
     "name": "stdout",
     "output_type": "stream",
     "text": [
      "Staff number 0: 1 [1, 3] 4 [3, 5] 6 [5, 1] scheduled at [7, 8] [12, 13] [18, 20] \n",
      "\n",
      "Staff number 1: 1 [1, 3] 4 [3, 5] 6 [5, 1] scheduled at [7, 8] [12, 13] [18, 20] \n",
      "\n",
      "Staff number 2: 2 [2, 4] 5 [4, 1] scheduled at [8, 9] [23, 24] \n",
      "\n",
      "Staff number 3: 2 [2, 4] 5 [4, 1] scheduled at [8, 9] [23, 24] \n",
      "\n",
      "Staff number 4: 3 [2, 5] 7 [5, 4] 5 [4, 1] scheduled at [9, 11] [18, 19] [23, 24] \n",
      "\n",
      "Staff number 5: 3 [2, 5] 7 [5, 4] 5 [4, 1] scheduled at [9, 11] [18, 19] [23, 24] \n",
      "\n",
      "Staff number 6: 1 [1, 3] 4 [3, 5] 6 [5, 1] scheduled at [7, 8] [12, 13] [18, 20] \n",
      "\n",
      "Staff number 7: 1 [1, 3] 4 [3, 5] 6 [5, 1] scheduled at [7, 8] [12, 13] [18, 20] \n",
      "\n",
      "Staff number 8: 2 [2, 4] 5 [4, 1] scheduled at [8, 9] [23, 24] \n",
      "\n",
      "Staff number 9: 2 [2, 4] 5 [4, 1] scheduled at [8, 9] [23, 24] \n",
      "\n",
      "Staff number 10: 3 [2, 5] 6 [5, 1] scheduled at [9, 11] [18, 20] \n",
      "\n",
      "Staff number 11: 3 [2, 5] 7 [5, 4] 5 [4, 1] scheduled at [9, 11] [18, 19] [23, 24] \n",
      "\n",
      "--------------------------------------------------\n",
      "\n",
      "Flight number 1: pilots [0, 1] cabin crew [6, 7] (≥2)\n",
      "\n",
      "Flight number 2: pilots [2, 3] cabin crew [8, 9] (≥2)\n",
      "\n",
      "Flight number 3: pilots [4, 5] cabin crew [10, 11] (≥2)\n",
      "\n",
      "Flight number 4: pilots [0, 1] cabin crew [6, 7] (≥1)\n",
      "\n",
      "Flight number 5: pilots [2, 3, 4, 5] cabin crew [8, 9, 11] (≥2)\n",
      "\n",
      "Flight number 6: pilots [0, 1] cabin crew [6, 7, 10] (≥2)\n",
      "\n",
      "Flight number 7: pilots [4, 5] cabin crew [11] (≥1)\n",
      "\n"
     ]
    }
   ],
   "source": [
    "# Function which returns whether the staff member is a pilot or not\n",
    "def is_pilot(i):\n",
    "    return (Ty[i]==1)\n",
    "\n",
    "# Function which prints the schedule for each crew cabin member\n",
    "def print_flights_member(flights_member):\n",
    "    \n",
    "    # Solve the constraints problem\n",
    "    flights_member = np.ravel(flights_member)\n",
    "    result = facile.solve(flights_member)\n",
    "\n",
    "    # Reshape the 1D array \"result\" into a 2D array\n",
    "    res_array = np.array(result.solution)\n",
    "    res_array = res_array.reshape(int(len(res_array)/(Nvmax+1)), Nvmax+1)\n",
    "\n",
    "    # For each staff member, determine his/her flights, cities of the flights and time schedule \n",
    "    for m in range(Ne):\n",
    "        flights_and_cities = \"\"\n",
    "        schedule = \"\"\n",
    "        for i in range(Nvmax+1):\n",
    "            flight = res_array[m][i] \n",
    "            if flight!=0:\n",
    "                flights_and_cities = flights_and_cities + \"{} {} \".format(flight, [Ov[flight], Dv[flight]])    \n",
    "                schedule = schedule + \"{} \".format([Td[flight], Ta[flight]])\n",
    "\n",
    "        print(\"Staff number {}: {}scheduled at {}\\n\".format(m, flights_and_cities, schedule))\n",
    "    print(\"--------------------------------------------------\\n\")\n",
    "\n",
    "    \n",
    "# Function which prints the staff members for each flight \n",
    "# and the minimum number of crew members that should be on the flight\n",
    "def print_pilots_crew(flights_member):\n",
    "    \n",
    "    # Solve the constraints problem\n",
    "    flights_member = np.ravel(flights_member)\n",
    "    result = facile.solve(flights_member)\n",
    "\n",
    "    # Reshape the 1D array \"result\" into a 2D array\n",
    "    res_array = np.array(result.solution)\n",
    "    res_array = res_array.reshape(int(len(res_array)/(Nvmax+1)), Nvmax+1)\n",
    "    \n",
    "    # For each flight \"i\"\n",
    "    for i in range(1,Nv+1):\n",
    "        pilots_in_flight = [] # Array which will contain the pilots for a given flight\n",
    "        crew_in_flight   = [] # Array which will contai nthe crew members for a given flight  \n",
    "        \n",
    "        # For each staff member \"m\"\n",
    "        for m in range(Ne):\n",
    "            # For each flight of this staff member\n",
    "            for flight in range(Nvmax+1):\n",
    "                # If the staff member \"m\" is in the flight \"flight\"\n",
    "                if res_array[m][flight] == i:\n",
    "                    if is_pilot(m): # If the staff member is a pilot\n",
    "                        pilots_in_flight.append(m)\n",
    "                    if not is_pilot(m): # If the staff member is a crew member\n",
    "                        crew_in_flight.append(m)\n",
    "                        \n",
    "        print(\"Flight number {}: pilots {} cabin crew {} (≥{})\\n\".format(i, pilots_in_flight, crew_in_flight, Nec[i]))\n",
    "        \n",
    "        # Resets the two arrays for the next flight\n",
    "        pilots_in_flight = []\n",
    "        crew_in_flight = []\n",
    "    \n",
    "# Print the schedule for each crew member\n",
    "# Print the staff members in each flight and the minimum number of crew members that should be on the flight\n",
    "print_flights_member(flights_member)\n",
    "print_pilots_crew(flights_member)\n"
   ]
  },
  {
   "cell_type": "markdown",
   "metadata": {},
   "source": [
    "## A different modelling for CSP and MILP\n",
    "\n",
    "Since bigger instances will require too much computing time, let's try something smarter:\n",
    "1. First use a CSP solver to compute all possible paths between cities;\n",
    "2. Then compare performances between a CSP and a MILP solver as we no longer assign staff members but groups of staff members to each path.\n",
    "\n",
    "<div class=\"alert alert-success\">\n",
    "    <b>Hint</b>: Three instances are given (tiny, small, normal). Start debugging with the small instance; when it works, try the normal instance: you will be graded based on the results of the <b>normal instance</b>.\n",
    "</div>"
   ]
  },
  {
   "cell_type": "markdown",
   "metadata": {},
   "source": [
    "### First questions (10%)\n",
    "\n",
    "<div class=\"alert alert-warning\">\n",
    "    <b>Warning</b>: Do not expect any external assistance for these questions. You are on your own.\n",
    "</div>\n",
    "\n",
    "1. Why would it help to solve the problem for groups of staff member rather than individuals. Which mathematical principle enters into account?\n",
    "2. Try to explain why CSP better suits (compared to MILP) the path computing part of the problem."
   ]
  },
  {
   "cell_type": "markdown",
   "metadata": {},
   "source": [
    "<div class = 'alert alert-info'>\n",
    "<b> Answer: </b><br>\n",
    "\n",
    "It would help to solve the problem for groups of staff member rather than individuals. This would be using `dimensionality reduction`.<br>\n",
    "<br>\n",
    "If the problem involves a huge number of features, the training will be extremely slow and it can be harder to find a good solution.<br>\n",
    "Moreover, it is useful for data visualization and, in some cases, it can filter out sime noise and necessary details, thus result in higher performance.    \n",
    "</div>\n"
   ]
  },
  {
   "cell_type": "markdown",
   "metadata": {},
   "source": [
    "<div class = 'alert alert-info'>\n",
    "<b> Answer: </b><br>\n",
    "    CSP better suits compared to MILP the path computing part of the problem because:<br>\n",
    "\n",
    "- There are `constraints which are not linear` because they contain and \"or\" with the | operator, or an \"and\" with the & operator\n",
    "- The `constraints do not contain a lot of variables`. This can make CSP more efficient than MILP.\n",
    "- The `domains are finite`.\n",
    "- We can do a `more natural statement` of the problem with CSP.\n",
    "- We can do `constraint propagation and dimension reduction`. \n",
    "</div>"
   ]
  },
  {
   "cell_type": "markdown",
   "metadata": {},
   "source": [
    "### Compute all possible paths (10%)"
   ]
  },
  {
   "cell_type": "code",
   "execution_count": 23,
   "metadata": {},
   "outputs": [],
   "source": [
    "import facile\n",
    "import numpy as np"
   ]
  },
  {
   "cell_type": "code",
   "execution_count": 27,
   "metadata": {},
   "outputs": [],
   "source": [
    "%run airline-small.py"
   ]
  },
  {
   "cell_type": "code",
   "execution_count": 25,
   "metadata": {
    "jupyter": {
     "outputs_hidden": false
    }
   },
   "outputs": [],
   "source": [
    "%run airline-normal.py"
   ]
  },
  {
   "cell_type": "code",
   "execution_count": 28,
   "metadata": {},
   "outputs": [],
   "source": [
    "# The decision variables: a 1D array containing all the possible paths between cities \n",
    "path = [facile.variable(range(Nv+1)) for _ in range(Nvmax+1)]\n",
    "\n",
    "# The first column is artificially filled with 0\n",
    "facile.constraint(path[0]==0)\n",
    "    \n",
    "# \"last_flight_index\" is the index of the last flight non equal to 0 for a staff member\n",
    "# It is obtained by computing the sum of flights non equal to 0 for a staff member\n",
    "last_flight_index = [sum((path[i] !=0) for i in range(0, Nvmax+1))]"
   ]
  },
  {
   "cell_type": "markdown",
   "metadata": {},
   "source": [
    "<div class=\"alert alert-info\">\n",
    "    \n",
    "**Constraint 1:**\n",
    "- Flights assigned to 0 (no flight) must be at the end of the schedule.  \n",
    "  [1, 0, 2] could be equivalent to [1, 2, 0] but only the second one is valid.\n",
    "\n",
    "</div>"
   ]
  },
  {
   "cell_type": "code",
   "execution_count": 29,
   "metadata": {},
   "outputs": [],
   "source": [
    "# For each flight in \"path\"\n",
    "for j in range(1,Nvmax): # The range reaches Nvmax because we use the index 'j+1' \n",
    "                         # and the first column is artificially made out of 0  \n",
    "    ### Variables\n",
    "    # path[j] / path[j+1]\n",
    "    flight_j   = facile.array(path)[j]\n",
    "    flight_jp1 = facile.array(path)[j+1]\n",
    "        \n",
    "    ### Constraint\n",
    "    # The flight[i][j] is not 0 otherwise the next flight flight[i][j+1] is 0\n",
    "    c1 = (flight_j!=0) | (flight_jp1==0)\n",
    "    facile.constraint(c1)"
   ]
  },
  {
   "cell_type": "markdown",
   "metadata": {},
   "source": [
    "<div class=\"alert alert-info\">\n",
    "\n",
    "<b> Constraint 2: </b>\n",
    "- A staff member may chain two flights if:\n",
    "    - first flight's destination airport and second flight's origin airport cities match;\n",
    "    - there is enough transfer time between flights.\n",
    "    \n",
    "</div>"
   ]
  },
  {
   "cell_type": "code",
   "execution_count": 30,
   "metadata": {},
   "outputs": [],
   "source": [
    "# For each flight in \"path\"\n",
    "for j in range(1,Nvmax):\n",
    "\n",
    "    ### Variables\n",
    "    # A given flight (path[j]) and the next flight (path[j+1])\n",
    "    flight_j   = facile.array(path)[j]\n",
    "    flight_jp1 = facile.array(path)[j+1]\n",
    "\n",
    "    # Destination airport of path[j] / Origin airport of path[j+1]                          \n",
    "    dest_airport_flight_j     = facile.array(Dv)[flight_j]\n",
    "    origin_airport_flight_jp1 = facile.array(Ov)[flight_jp1]                          \n",
    "\n",
    "    # Destination city of path[j] / Origin city of path[j+1]\n",
    "    dest_city_flight_j     = facile.array(Va)[dest_airport_flight_j]\n",
    "    origin_city_flight_jp1 = facile.array(Va)[origin_airport_flight_jp1]\n",
    "\n",
    "    # Reshape Dt from a 2D array into a 1D array\n",
    "    Dt_flatten = np.ravel(Dt)\n",
    "\n",
    "    # Transit time between the airport of path[j] and the airport of path[j+1]\n",
    "    # Accessible with Dt[k][l] => Dt[k*Na+l]\n",
    "    transit_time = facile.array(Dt_flatten)[dest_airport_flight_j * (Na+1) + origin_airport_flight_jp1]\n",
    "\n",
    "    # Arrival time of path[j] / Departure time of path[j+1]\n",
    "    Ta_flight_j = facile.array(Ta)[flight_j]                       \n",
    "    Td_flight_jp1 = facile.array(Td)[flight_jp1]    \n",
    "\n",
    "    ### Constraints\n",
    "    c3_0 = origin_city_flight_jp1 == 0     \n",
    "    c3_1 = origin_city_flight_jp1 == dest_city_flight_j\n",
    "    c3_2 =  transit_time <= Td_flight_jp1 - Ta_flight_j\n",
    "\n",
    "    facile.constraint(c3_0|c3_1)\n",
    "    facile.constraint(c3_0|c3_2)"
   ]
  },
  {
   "cell_type": "markdown",
   "metadata": {},
   "source": [
    "<div class=\"alert alert-info\">\n",
    "    \n",
    "**Constraint 3:**\n",
    "\n",
    "- A staff member may not exceed his/her total time out of home;\n",
    "    \n",
    "</div>"
   ]
  },
  {
   "cell_type": "code",
   "execution_count": 31,
   "metadata": {},
   "outputs": [],
   "source": [
    "### Variables\n",
    "# First flight in \"path\" / Last flight non equal to 0 in \"path\"\n",
    "first_flight = facile.array(path)[1]\n",
    "last_flight  = facile.array(path)[last_flight_index[0]]\n",
    "\n",
    "# Departure time of the first flight / Arrival time of the last flight\n",
    "Ta_last_flight  = facile.array(Ta)[last_flight]\n",
    "Td_first_flight = facile.array(Td)[first_flight]\n",
    "\n",
    "### Constraint\n",
    "# A staff member may not exceed his/her total time out of home\n",
    "c4 = (Dda + Ta_last_flight - Td_first_flight) <= Dmax\n",
    "facile.constraint(c4)"
   ]
  },
  {
   "cell_type": "markdown",
   "metadata": {},
   "source": [
    "<div class=\"alert alert-info\">\n",
    "   \n",
    "**Constraint 4**:\n",
    "\n",
    "- If there is a flight, the last flight returns to the city of the first flight \n",
    "    \n",
    "This constraint was not in the previous part but is just:<br>\n",
    "<b> dest_city_last_flight == origin_city_first_flight</b>\n",
    "</div>"
   ]
  },
  {
   "cell_type": "code",
   "execution_count": 32,
   "metadata": {
    "jupyter": {
     "outputs_hidden": false
    }
   },
   "outputs": [],
   "source": [
    "### Variables\n",
    "# First flight of the staff member / Last flight of the staff member\n",
    "first_flight = facile.array(path)[1]\n",
    "last_flight  = facile.array(path)[last_flight_index[0]]\n",
    "\n",
    "# Origin airport of the first flight / Destination airport of the last flight\n",
    "origin_airport_first_flight = facile.array(Ov)[first_flight]\n",
    "dest_airport_last_flight    = facile.array(Dv)[last_flight]\n",
    "\n",
    "# Origin city of the first flight / Destination city of the last flight \n",
    "origin_city_first_flight = facile.array(Va)[origin_airport_first_flight]\n",
    "dest_city_last_flight    = facile.array(Va)[dest_airport_last_flight]\n",
    "\n",
    "### Constraints\n",
    "# The destination city of the last flight is equal to the origin city of the first flight\n",
    "c4_2 = dest_city_last_flight == origin_city_first_flight\n",
    "facile.constraint(c4_2) "
   ]
  },
  {
   "cell_type": "markdown",
   "metadata": {},
   "source": [
    "<div class=\"alert alert-info\">\n",
    "    \n",
    "**Answer**:\n",
    "    \n",
    "The possible paths are generated in the variable **possible_paths**\n",
    "</div>"
   ]
  },
  {
   "cell_type": "code",
   "execution_count": 33,
   "metadata": {},
   "outputs": [
    {
     "name": "stdout",
     "output_type": "stream",
     "text": [
      "Possible schedules for a staff member: [[0, 0, 0, 0], [0, 1, 4, 6], [0, 2, 5, 0], [0, 3, 6, 0], [0, 3, 7, 5]]\n"
     ]
    }
   ],
   "source": [
    "# Generate the possible paths\n",
    "res = facile.solve_all(path)\n",
    "possible_paths = []\n",
    "\n",
    "for x in res:\n",
    "    if x.solution!= None:\n",
    "        possible_paths.append(x.solution)\n",
    "        \n",
    "print(\"Possible schedules for a staff member: {}\".format(possible_paths))"
   ]
  },
  {
   "cell_type": "markdown",
   "metadata": {},
   "source": [
    "### CSP and MILP resolution (15%)\n",
    "\n",
    "- Assign a group of staff members to each path;\n",
    "- Compare the computing time with CSP and MILP resolutions (use `PuLP` library for MILP);\n",
    "- Post-process and pretty-print the results;\n",
    "- Comment"
   ]
  },
  {
   "cell_type": "markdown",
   "metadata": {},
   "source": [
    "<div class=\"alert alert-info\">\n",
    "    \n",
    "<b> Answer:</b>   \n",
    "\n",
    "The possible paths are contained in the variable **possible_paths**\n",
    "\n",
    "The decision variables is flights_member, a 1-D array because, as for the variable **Dt**, a 2-D array will not work when using facile.array\n",
    "- **i**: staff member\n",
    "- **flights_member[i]** : number of the schedule taken by the staff member **i**<br>\n",
    "It takes value in [0, len(possible_paths)]\n",
    "\n",
    "</div>"
   ]
  },
  {
   "cell_type": "code",
   "execution_count": 34,
   "metadata": {
    "scrolled": true
   },
   "outputs": [],
   "source": [
    "# Contains the possible paths in a 1-D array. \n",
    "# As for the variable Dt, a 2-D array will not work when using facile.array\n",
    "paths_var = facile.array(np.reshape(possible_paths, -1))\n",
    "\n",
    "# Decision variable in a 1-D array\n",
    "flights_member = facile.array([facile.variable(range(len(possible_paths))) for i in range(Ne)])"
   ]
  },
  {
   "cell_type": "markdown",
   "metadata": {},
   "source": [
    "<div class=\"alert alert-info\">\n",
    "    \n",
    "**Constraint:**\n",
    "\n",
    "If a staff member does not fly, the first flight is 0. <br>\n",
    "**first_flight==0**<br> \n",
    "\n",
    "Otherwise, he/she must have a schedule which first flight departs from his/her hometown.<br>\n",
    "**origin_city_first_flight == hometown**\n",
    "</div>"
   ]
  },
  {
   "cell_type": "code",
   "execution_count": 35,
   "metadata": {},
   "outputs": [],
   "source": [
    "# For each staff member\n",
    "for i in range(Ne):\n",
    "    \n",
    "    ### Variables\n",
    "    # Schedule number in flights_member[i]\n",
    "    schedule_number = flights_member[i]\n",
    "    \n",
    "    # First flight of the schedule / Last flight of the schedule \n",
    "    # With the 1-D array paths_var, paths_var[k][l] = paths_var[k*Nvmax+l]\n",
    "    # \"k\" is the schedule number\n",
    "    # for the first flight, \"l=1\"     ;    for the last flight, \"l=Nvmax\"\n",
    "    first_flight = facile.array(paths_var)[schedule_number*Nvmax+1]\n",
    "    \n",
    "    # Origin airport of the first flight \n",
    "    origin_airport_first_flight = facile.array(Ov)[first_flight]\n",
    "    \n",
    "    # Origin city of the first flight \n",
    "    origin_city_first_flight = facile.array(Va)[origin_airport_first_flight]   \n",
    "    \n",
    "    # Hometown of the staff member \"i\"\n",
    "    hometown = Vh[i]\n",
    "    \n",
    "    ### Constraints \n",
    "    # The first flight is equal to 0 (the staff member does not fly)\n",
    "    c2_1 = first_flight==0 \n",
    "\n",
    "    # The origin city of the first flight is the hometown of the staff member\n",
    "    c2_2 = origin_city_first_flight == hometown\n",
    "    \n",
    "    facile.constraint(c2_1|c2_2)"
   ]
  },
  {
   "cell_type": "markdown",
   "metadata": {},
   "source": [
    "<div class=\"alert alert-info\">\n",
    "    \n",
    "**Constraint:**\n",
    "- Each flights requires at least two pilots and enough cabin crew members.\n",
    "\n",
    "</div>"
   ]
  },
  {
   "cell_type": "markdown",
   "metadata": {},
   "source": [
    "<div class = \"alert alert-warning\">\n",
    "    \n",
    "This constraint is not working.<br>\n",
    "\n",
    "I wanted to use the same code as the **part 1**, that is to say count the number of time a given flight appears in a schedule but the synthax is not correct:\n",
    "<b> facile.array(schedules)[facile.array(flights_member)[i]]] </b>\n",
    "\n",
    "This is supposed to give access to the **schedule** which number is in **flights_number[i]**, but the error is \"The arguments must be variables or expression\"\n",
    "</div>"
   ]
  },
  {
   "cell_type": "code",
   "execution_count": 37,
   "metadata": {
    "scrolled": true
   },
   "outputs": [
    {
     "ename": "TypeError",
     "evalue": "The arguments must be variables or expressions",
     "output_type": "error",
     "traceback": [
      "\u001b[0;31m---------------------------------------------------------------------------\u001b[0m",
      "\u001b[0;31mTypeError\u001b[0m                                 Traceback (most recent call last)",
      "\u001b[0;32m<ipython-input-37-756d6a168606>\u001b[0m in \u001b[0;36m<module>\u001b[0;34m\u001b[0m\n\u001b[1;32m     25\u001b[0m \u001b[0;31m# For each \"flight\", we count the number of pilots and the number of cabin crew members in it\u001b[0m\u001b[0;34m\u001b[0m\u001b[0;34m\u001b[0m\u001b[0;34m\u001b[0m\u001b[0m\n\u001b[1;32m     26\u001b[0m \u001b[0;32mfor\u001b[0m \u001b[0mflight\u001b[0m \u001b[0;32min\u001b[0m \u001b[0mrange\u001b[0m\u001b[0;34m(\u001b[0m\u001b[0;36m1\u001b[0m\u001b[0;34m,\u001b[0m\u001b[0mNv\u001b[0m\u001b[0;34m+\u001b[0m\u001b[0;36m1\u001b[0m\u001b[0;34m)\u001b[0m\u001b[0;34m:\u001b[0m\u001b[0;34m\u001b[0m\u001b[0;34m\u001b[0m\u001b[0m\n\u001b[0;32m---> 27\u001b[0;31m     \u001b[0mpilots_per_flight\u001b[0m \u001b[0;34m=\u001b[0m \u001b[0msum\u001b[0m\u001b[0;34m(\u001b[0m\u001b[0;34m[\u001b[0m\u001b[0msum\u001b[0m\u001b[0;34m(\u001b[0m\u001b[0;34m[\u001b[0m\u001b[0mx\u001b[0m\u001b[0;34m==\u001b[0m\u001b[0mflight\u001b[0m \u001b[0;32mfor\u001b[0m \u001b[0mx\u001b[0m \u001b[0;32min\u001b[0m \u001b[0mfacile\u001b[0m\u001b[0;34m.\u001b[0m\u001b[0marray\u001b[0m\u001b[0;34m(\u001b[0m\u001b[0mschedules\u001b[0m\u001b[0;34m)\u001b[0m\u001b[0;34m[\u001b[0m\u001b[0mfacile\u001b[0m\u001b[0;34m.\u001b[0m\u001b[0marray\u001b[0m\u001b[0;34m(\u001b[0m\u001b[0mflights_member\u001b[0m\u001b[0;34m)\u001b[0m\u001b[0;34m[\u001b[0m\u001b[0mi\u001b[0m\u001b[0;34m]\u001b[0m\u001b[0;34m]\u001b[0m\u001b[0;34m]\u001b[0m\u001b[0;34m)\u001b[0m \u001b[0;32mfor\u001b[0m \u001b[0mi\u001b[0m \u001b[0;32min\u001b[0m \u001b[0mrange\u001b[0m\u001b[0;34m(\u001b[0m\u001b[0mNe\u001b[0m\u001b[0;34m)\u001b[0m \u001b[0;32mif\u001b[0m \u001b[0mis_pilot\u001b[0m\u001b[0;34m(\u001b[0m\u001b[0mi\u001b[0m\u001b[0;34m)\u001b[0m\u001b[0;34m]\u001b[0m\u001b[0;34m)\u001b[0m\u001b[0;34m\u001b[0m\u001b[0;34m\u001b[0m\u001b[0m\n\u001b[0m\u001b[1;32m     28\u001b[0m     \u001b[0mcrew_members_per_flight\u001b[0m \u001b[0;34m=\u001b[0m \u001b[0msum\u001b[0m\u001b[0;34m(\u001b[0m\u001b[0;34m[\u001b[0m\u001b[0msum\u001b[0m\u001b[0;34m(\u001b[0m\u001b[0;34m[\u001b[0m\u001b[0mx\u001b[0m\u001b[0;34m==\u001b[0m\u001b[0mflight\u001b[0m \u001b[0;32mfor\u001b[0m \u001b[0mx\u001b[0m \u001b[0;32min\u001b[0m \u001b[0mfacile\u001b[0m\u001b[0;34m.\u001b[0m\u001b[0marray\u001b[0m\u001b[0;34m(\u001b[0m\u001b[0mschedules\u001b[0m\u001b[0;34m)\u001b[0m\u001b[0;34m[\u001b[0m\u001b[0mfacile\u001b[0m\u001b[0;34m.\u001b[0m\u001b[0marray\u001b[0m\u001b[0;34m(\u001b[0m\u001b[0mflights_member\u001b[0m\u001b[0;34m)\u001b[0m\u001b[0;34m[\u001b[0m\u001b[0mi\u001b[0m\u001b[0;34m]\u001b[0m\u001b[0;34m]\u001b[0m\u001b[0;34m]\u001b[0m\u001b[0;34m)\u001b[0m \u001b[0;32mfor\u001b[0m \u001b[0mi\u001b[0m \u001b[0;32min\u001b[0m \u001b[0mrange\u001b[0m\u001b[0;34m(\u001b[0m\u001b[0mNe\u001b[0m\u001b[0;34m)\u001b[0m \u001b[0;32mif\u001b[0m \u001b[0;32mnot\u001b[0m \u001b[0mis_pilot\u001b[0m\u001b[0;34m(\u001b[0m\u001b[0mi\u001b[0m\u001b[0;34m)\u001b[0m\u001b[0;34m]\u001b[0m\u001b[0;34m)\u001b[0m\u001b[0;34m\u001b[0m\u001b[0;34m\u001b[0m\u001b[0m\n\u001b[1;32m     29\u001b[0m \u001b[0;34m\u001b[0m\u001b[0m\n",
      "\u001b[0;32m<ipython-input-37-756d6a168606>\u001b[0m in \u001b[0;36m<listcomp>\u001b[0;34m(.0)\u001b[0m\n\u001b[1;32m     25\u001b[0m \u001b[0;31m# For each \"flight\", we count the number of pilots and the number of cabin crew members in it\u001b[0m\u001b[0;34m\u001b[0m\u001b[0;34m\u001b[0m\u001b[0;34m\u001b[0m\u001b[0m\n\u001b[1;32m     26\u001b[0m \u001b[0;32mfor\u001b[0m \u001b[0mflight\u001b[0m \u001b[0;32min\u001b[0m \u001b[0mrange\u001b[0m\u001b[0;34m(\u001b[0m\u001b[0;36m1\u001b[0m\u001b[0;34m,\u001b[0m\u001b[0mNv\u001b[0m\u001b[0;34m+\u001b[0m\u001b[0;36m1\u001b[0m\u001b[0;34m)\u001b[0m\u001b[0;34m:\u001b[0m\u001b[0;34m\u001b[0m\u001b[0;34m\u001b[0m\u001b[0m\n\u001b[0;32m---> 27\u001b[0;31m     \u001b[0mpilots_per_flight\u001b[0m \u001b[0;34m=\u001b[0m \u001b[0msum\u001b[0m\u001b[0;34m(\u001b[0m\u001b[0;34m[\u001b[0m\u001b[0msum\u001b[0m\u001b[0;34m(\u001b[0m\u001b[0;34m[\u001b[0m\u001b[0mx\u001b[0m\u001b[0;34m==\u001b[0m\u001b[0mflight\u001b[0m \u001b[0;32mfor\u001b[0m \u001b[0mx\u001b[0m \u001b[0;32min\u001b[0m \u001b[0mfacile\u001b[0m\u001b[0;34m.\u001b[0m\u001b[0marray\u001b[0m\u001b[0;34m(\u001b[0m\u001b[0mschedules\u001b[0m\u001b[0;34m)\u001b[0m\u001b[0;34m[\u001b[0m\u001b[0mfacile\u001b[0m\u001b[0;34m.\u001b[0m\u001b[0marray\u001b[0m\u001b[0;34m(\u001b[0m\u001b[0mflights_member\u001b[0m\u001b[0;34m)\u001b[0m\u001b[0;34m[\u001b[0m\u001b[0mi\u001b[0m\u001b[0;34m]\u001b[0m\u001b[0;34m]\u001b[0m\u001b[0;34m]\u001b[0m\u001b[0;34m)\u001b[0m \u001b[0;32mfor\u001b[0m \u001b[0mi\u001b[0m \u001b[0;32min\u001b[0m \u001b[0mrange\u001b[0m\u001b[0;34m(\u001b[0m\u001b[0mNe\u001b[0m\u001b[0;34m)\u001b[0m \u001b[0;32mif\u001b[0m \u001b[0mis_pilot\u001b[0m\u001b[0;34m(\u001b[0m\u001b[0mi\u001b[0m\u001b[0;34m)\u001b[0m\u001b[0;34m]\u001b[0m\u001b[0;34m)\u001b[0m\u001b[0;34m\u001b[0m\u001b[0;34m\u001b[0m\u001b[0m\n\u001b[0m\u001b[1;32m     28\u001b[0m     \u001b[0mcrew_members_per_flight\u001b[0m \u001b[0;34m=\u001b[0m \u001b[0msum\u001b[0m\u001b[0;34m(\u001b[0m\u001b[0;34m[\u001b[0m\u001b[0msum\u001b[0m\u001b[0;34m(\u001b[0m\u001b[0;34m[\u001b[0m\u001b[0mx\u001b[0m\u001b[0;34m==\u001b[0m\u001b[0mflight\u001b[0m \u001b[0;32mfor\u001b[0m \u001b[0mx\u001b[0m \u001b[0;32min\u001b[0m \u001b[0mfacile\u001b[0m\u001b[0;34m.\u001b[0m\u001b[0marray\u001b[0m\u001b[0;34m(\u001b[0m\u001b[0mschedules\u001b[0m\u001b[0;34m)\u001b[0m\u001b[0;34m[\u001b[0m\u001b[0mfacile\u001b[0m\u001b[0;34m.\u001b[0m\u001b[0marray\u001b[0m\u001b[0;34m(\u001b[0m\u001b[0mflights_member\u001b[0m\u001b[0;34m)\u001b[0m\u001b[0;34m[\u001b[0m\u001b[0mi\u001b[0m\u001b[0;34m]\u001b[0m\u001b[0;34m]\u001b[0m\u001b[0;34m]\u001b[0m\u001b[0;34m)\u001b[0m \u001b[0;32mfor\u001b[0m \u001b[0mi\u001b[0m \u001b[0;32min\u001b[0m \u001b[0mrange\u001b[0m\u001b[0;34m(\u001b[0m\u001b[0mNe\u001b[0m\u001b[0;34m)\u001b[0m \u001b[0;32mif\u001b[0m \u001b[0;32mnot\u001b[0m \u001b[0mis_pilot\u001b[0m\u001b[0;34m(\u001b[0m\u001b[0mi\u001b[0m\u001b[0;34m)\u001b[0m\u001b[0;34m]\u001b[0m\u001b[0;34m)\u001b[0m\u001b[0;34m\u001b[0m\u001b[0;34m\u001b[0m\u001b[0m\n\u001b[1;32m     29\u001b[0m \u001b[0;34m\u001b[0m\u001b[0m\n",
      "\u001b[0;32mfacile.pyx\u001b[0m in \u001b[0;36mfacile.array\u001b[0;34m()\u001b[0m\n",
      "\u001b[0;31mTypeError\u001b[0m: The arguments must be variables or expressions"
     ]
    }
   ],
   "source": [
    "# Function which returns whether the staff member is a pilot or not\n",
    "def is_pilot(i):\n",
    "    return (Ty[i]==1)\n",
    "\n",
    "\n",
    "# \"schedules\" is a 2-D matrix whose shape is (number_of_possibles_schedules, maximum_number_of_flights)\n",
    "# schedules[k] gives the possible schedule of flights number k, for example [0,1,4,6]\n",
    "# We obtain [[schedule_0] [schedule_1] [schedule_2] ...]\n",
    "schedules = []\n",
    "for i in range(len(possible_paths)):\n",
    "    schedule_i = []\n",
    "    for j in range(Nvmax+1):\n",
    "        schedule_i.append(facile.array(paths_var)[flights_member[i]*Nvmax+j])\n",
    "    # schedules is a 1-D array here\n",
    "    schedules = np.concatenate((np.array(schedules), np.array(schedule_i)), axis=0)\n",
    "\n",
    "number_of_possible_schedules = int(len(schedules)/(Nvmax+1))\n",
    "maximum_number_of_flights = Nvmax+1\n",
    "# Reshape the 1-D array into a 2-D array\n",
    "schedules = schedules.reshape(number_of_possible_schedules, maximum_number_of_flights)\n",
    "\n",
    "\n",
    "\n",
    "### Variables\n",
    "# For each \"flight\", we count the number of pilots and the number of cabin crew members in it\n",
    "for flight in range(1,Nv+1):\n",
    "    pilots_per_flight = sum([sum([x==flight for x in facile.array(schedules)[facile.array(flights_member)[i]]]) for i in range(Ne) if is_pilot(i)])\n",
    "    crew_members_per_flight = sum([sum([x==flight for x in facile.array(schedules)[facile.array(flights_member)[i]]]) for i in range(Ne) if not is_pilot(i)])\n",
    "        \n",
    "    ### Constraints\n",
    "    # Each flight requires at least two pilots\n",
    "    facile.constraint(pilots_per_flight>=2)\n",
    "    \n",
    "    # Each flight requies at least \"Nec[flight]\" cabin crew members\n",
    "    facile.constraint(crew_members_per_flight>=Nec[flight])"
   ]
  },
  {
   "cell_type": "markdown",
   "metadata": {},
   "source": [
    "<div class=\"alert alert-info\">\n",
    "    \n",
    "**Pretty print the results**\n",
    "</div>"
   ]
  },
  {
   "cell_type": "code",
   "execution_count": 283,
   "metadata": {},
   "outputs": [
    {
     "name": "stdout",
     "output_type": "stream",
     "text": [
      "Staff number 0: scheduled at \n",
      "\n",
      "Staff number 1: scheduled at \n",
      "\n",
      "Staff number 2: scheduled at \n",
      "\n"
     ]
    },
    {
     "ename": "IndexError",
     "evalue": "index 3 is out of bounds for axis 0 with size 3",
     "output_type": "error",
     "traceback": [
      "\u001b[0;31m---------------------------------------------------------------------------\u001b[0m",
      "\u001b[0;31mIndexError\u001b[0m                                Traceback (most recent call last)",
      "\u001b[0;32m<ipython-input-283-8d8bbcb50c33>\u001b[0m in \u001b[0;36m<module>\u001b[0;34m\u001b[0m\n\u001b[1;32m     64\u001b[0m \u001b[0;31m# Print the schedule for each crew member\u001b[0m\u001b[0;34m\u001b[0m\u001b[0;34m\u001b[0m\u001b[0;34m\u001b[0m\u001b[0m\n\u001b[1;32m     65\u001b[0m \u001b[0;31m# Print the staff members in each flight and the minimum number of crew members that should be on the flight\u001b[0m\u001b[0;34m\u001b[0m\u001b[0;34m\u001b[0m\u001b[0;34m\u001b[0m\u001b[0m\n\u001b[0;32m---> 66\u001b[0;31m \u001b[0mprint_flights_member\u001b[0m\u001b[0;34m(\u001b[0m\u001b[0mflights_member\u001b[0m\u001b[0;34m)\u001b[0m\u001b[0;34m\u001b[0m\u001b[0;34m\u001b[0m\u001b[0m\n\u001b[0m\u001b[1;32m     67\u001b[0m \u001b[0mprint_pilots_crew\u001b[0m\u001b[0;34m(\u001b[0m\u001b[0mflights_member\u001b[0m\u001b[0;34m)\u001b[0m\u001b[0;34m\u001b[0m\u001b[0;34m\u001b[0m\u001b[0m\n",
      "\u001b[0;32m<ipython-input-283-8d8bbcb50c33>\u001b[0m in \u001b[0;36mprint_flights_member\u001b[0;34m(flights_member)\u001b[0m\n\u001b[1;32m     19\u001b[0m         \u001b[0mschedule\u001b[0m \u001b[0;34m=\u001b[0m \u001b[0;34m\"\"\u001b[0m\u001b[0;34m\u001b[0m\u001b[0;34m\u001b[0m\u001b[0m\n\u001b[1;32m     20\u001b[0m         \u001b[0;32mfor\u001b[0m \u001b[0mi\u001b[0m \u001b[0;32min\u001b[0m \u001b[0mrange\u001b[0m\u001b[0;34m(\u001b[0m\u001b[0mNvmax\u001b[0m\u001b[0;34m+\u001b[0m\u001b[0;36m1\u001b[0m\u001b[0;34m)\u001b[0m\u001b[0;34m:\u001b[0m\u001b[0;34m\u001b[0m\u001b[0;34m\u001b[0m\u001b[0m\n\u001b[0;32m---> 21\u001b[0;31m             \u001b[0mflight\u001b[0m \u001b[0;34m=\u001b[0m \u001b[0mres_array\u001b[0m\u001b[0;34m[\u001b[0m\u001b[0mm\u001b[0m\u001b[0;34m]\u001b[0m\u001b[0;34m[\u001b[0m\u001b[0mi\u001b[0m\u001b[0;34m]\u001b[0m\u001b[0;34m\u001b[0m\u001b[0;34m\u001b[0m\u001b[0m\n\u001b[0m\u001b[1;32m     22\u001b[0m             \u001b[0;32mif\u001b[0m \u001b[0mflight\u001b[0m\u001b[0;34m!=\u001b[0m\u001b[0;36m0\u001b[0m\u001b[0;34m:\u001b[0m\u001b[0;34m\u001b[0m\u001b[0;34m\u001b[0m\u001b[0m\n\u001b[1;32m     23\u001b[0m                 \u001b[0mflights_and_cities\u001b[0m \u001b[0;34m=\u001b[0m \u001b[0mflights_and_cities\u001b[0m \u001b[0;34m+\u001b[0m \u001b[0;34m\"{} {} \"\u001b[0m\u001b[0;34m.\u001b[0m\u001b[0mformat\u001b[0m\u001b[0;34m(\u001b[0m\u001b[0mflight\u001b[0m\u001b[0;34m,\u001b[0m \u001b[0;34m[\u001b[0m\u001b[0mOv\u001b[0m\u001b[0;34m[\u001b[0m\u001b[0mflight\u001b[0m\u001b[0;34m]\u001b[0m\u001b[0;34m,\u001b[0m \u001b[0mDv\u001b[0m\u001b[0;34m[\u001b[0m\u001b[0mflight\u001b[0m\u001b[0;34m]\u001b[0m\u001b[0;34m]\u001b[0m\u001b[0;34m)\u001b[0m\u001b[0;34m\u001b[0m\u001b[0;34m\u001b[0m\u001b[0m\n",
      "\u001b[0;31mIndexError\u001b[0m: index 3 is out of bounds for axis 0 with size 3"
     ]
    }
   ],
   "source": [
    "# Function which returns whether the staff member is a pilot or not\n",
    "def is_pilot(i):\n",
    "    return (Ty[i]==1)\n",
    "\n",
    "# Function which prints the schedule for each crew cabin member\n",
    "def print_flights_member(flights_member):\n",
    "    \n",
    "    # Solve the constraints problem\n",
    "    flights_member = np.ravel(flights_member)\n",
    "    result = facile.solve(flights_member)\n",
    "\n",
    "    # Reshape the 1D array \"result\" into a 2D array\n",
    "    res_array = np.array(result.solution)\n",
    "    res_array = res_array.reshape(int(len(res_array)/(Nvmax+1)), Nvmax+1)\n",
    "\n",
    "    # For each staff member, determine his/her flights, cities of the flights and time schedule \n",
    "    for m in range(Ne):\n",
    "        flights_and_cities = \"\"\n",
    "        schedule = \"\"\n",
    "        for i in range(Nvmax+1):\n",
    "            flight = res_array[m][i] \n",
    "            if flight!=0:\n",
    "                flights_and_cities = flights_and_cities + \"{} {} \".format(flight, [Ov[flight], Dv[flight]])    \n",
    "                schedule = schedule + \"{} \".format([Td[flight], Ta[flight]])\n",
    "\n",
    "        print(\"Staff number {}: {}scheduled at {}\\n\".format(m, flights_and_cities, schedule))\n",
    "    print(\"--------------------------------------------------\\n\")\n",
    "\n",
    "    \n",
    "# Function which prints the staff members for each flight \n",
    "# and the minimum number of crew members that should be on the flight\n",
    "def print_pilots_crew(flights_member):\n",
    "    \n",
    "    # Solve the constraints problem\n",
    "    flights_member = np.ravel(flights_member)\n",
    "    result = facile.solve(flights_member)\n",
    "\n",
    "    # Reshape the 1D array \"result\" into a 2D array\n",
    "    res_array = np.array(result.solution)\n",
    "    res_array = res_array.reshape(int(len(res_array)/(Nvmax+1)), Nvmax+1)\n",
    "    \n",
    "    # For each flight \"i\"\n",
    "    for i in range(1,Nv+1):\n",
    "        pilots_in_flight = [] # Array which will contain the pilots for a given flight\n",
    "        crew_in_flight   = [] # Array which will contai nthe crew members for a given flight  \n",
    "        \n",
    "        # For each staff member \"m\"\n",
    "        for m in range(Ne):\n",
    "            # For each flight of this staff member\n",
    "            for flight in range(Nvmax+1):\n",
    "                # If the staff member \"m\" is in the flight \"flight\"\n",
    "                if res_array[m][flight] == i:\n",
    "                    if is_pilot(m): # If the staff member is a pilot\n",
    "                        pilots_in_flight.append(m)\n",
    "                    if not is_pilot(m): # If the staff member is a crew member\n",
    "                        crew_in_flight.append(m)\n",
    "                        \n",
    "        print(\"Flight number {}: pilots {} cabin crew {} (≥{})\\n\".format(i, pilots_in_flight, crew_in_flight, Nec[i]))\n",
    "        \n",
    "        # Resets the two arrays for the next flight\n",
    "        pilots_in_flight = []\n",
    "        crew_in_flight = []\n",
    "    \n",
    "# Print the schedule for each crew member\n",
    "# Print the staff members in each flight and the minimum number of crew members that should be on the flight\n",
    "print_flights_member(flights_member)\n",
    "print_pilots_crew(flights_member)\n"
   ]
  }
 ],
 "metadata": {
  "kernelspec": {
   "display_name": "Python 3",
   "language": "python",
   "name": "python3"
  },
  "language_info": {
   "codemirror_mode": {
    "name": "ipython",
    "version": 3
   },
   "file_extension": ".py",
   "mimetype": "text/x-python",
   "name": "python",
   "nbconvert_exporter": "python",
   "pygments_lexer": "ipython3",
   "version": "3.7.3"
  },
  "toc": {
   "base_numbering": 1,
   "nav_menu": {},
   "number_sections": true,
   "sideBar": true,
   "skip_h1_title": false,
   "title_cell": "Table of Contents",
   "title_sidebar": "Contents",
   "toc_cell": false,
   "toc_position": {},
   "toc_section_display": true,
   "toc_window_display": false
  }
 },
 "nbformat": 4,
 "nbformat_minor": 4
}
